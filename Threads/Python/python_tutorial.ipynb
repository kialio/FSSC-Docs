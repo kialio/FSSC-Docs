{
 "cells": [
  {
   "cell_type": "markdown",
   "metadata": {},
   "source": [
    "# Likelihood Analysis with Python"
   ]
  },
  {
   "cell_type": "markdown",
   "metadata": {},
   "source": [
    "The python likelihood tools are a very powerful set of analysis tools that expand upon the command line tools provided with the Fermi Science Tools package. Not only can you perform all of the same likelihood analysis with the python tools that you can with the standard command line tools but you can directly access all of the model parameters.  You can more easily script a standard analysis like light curve generation.  There are also a few things built into the python tools that are not available from the command line like the calculation of upper limits.\n",
    "\n",
    "There are many [user contributed packages](https://fermi.gsfc.nasa.gov/ssc/data/analysis/user/) built upon the python backbone of the Science Tools and we are going to highlight and use a few of them in this tutorial like likeSED, make3FGLxml, and the LATAnalysisScripts.\n",
    "\n",
    "This sample analysis is based on the PG 1553+113 analysis performed by the LAT team and described in [Abdo, A. A. et al. 2010, ApJ, 708, 1310](http://adsabs.harvard.edu/abs/2010ApJ...708.1310A). At certain points we will refer to this article as well as the [Cicerone](https://fermi.gsfc.nasa.gov/ssc/data/analysis/documentation/Cicerone/). After you complete this tutorial you should be able to reproduce all of the data analysis performed in this publication including generating a spectrum (individual bins and a butterfly plot) and produce a light curve with the python tools.  This tutorial assumes you have the most recent [ScienceTools](https://fermi.gsfc.nasa.gov/ssc/data/analysis/software/) installed. We will also make significant use of python, so you might want to familiarize yourself with python (there's a beginner's guide at http://wiki.python.org/moin/BeginnersGuide. This tutorial also assumes that you've gone through the non-python based [unbinned likelihood](https://fermi.gsfc.nasa.gov/ssc/data/analysis/scitools/likelihood_tutorial.html) thread. This tutorial should take approximately 8 hours to complete (depending on your computer's speed) if you do everything but there are some steps you can skip along the way which shave off about 4 hours of that.\n",
    "\n",
    "> **Note:** This tutorial is generated from a [jupyter notebook](https://github.com/kialio/FSSC-Docs/blob/master/Threads/Python/python_tutorial.ipynb) which you can download and run yourself (the prefereed method). You can also run individual commands listed on this page.  If you do that, be aware that some commands must be executed in an ipython/jupyter environment."
   ]
  },
  {
   "cell_type": "markdown",
   "metadata": {
    "collapsed": true
   },
   "source": [
    "## Get the Data\n",
    "\n",
    "For this thread the original data were extracted from the [LAT data server](https://fermi.gsfc.nasa.gov/cgi-bin/ssc/LAT/LATDataQuery.cgi) with the following selections (these selections are similar to those in the paper):\n",
    "\n",
    "* Search Center (RA,Dec) = (238.929,11.1901)\n",
    "* Radius = 20 degrees\n",
    "* Start Time (MET) = 239557417 seconds (2008-08-04T15:43:37)\n",
    "* Stop Time (MET) = 256970880 seconds (2009-02-22T04:48:00)\n",
    "* Minimum Energy = 100 MeV\n",
    "* Maximum Energy = 300000 MeV\n",
    "\n",
    "We've provided direct links to the event files as well as the spacecraft data file if you don't want to take the time to use the download server. For more information on how to download LAT data please see the [Extract LAT Data](https://fermi.gsfc.nasa.gov/ssc/data/analysis/scitools/explore_latdata.html) tutorial.\n",
    "\n",
    "* [L1504241622054B65347F25_PH00.fits](https://fermi.gsfc.nasa.gov/ssc/data/analysis/scitools/data/pyLikelihood/L1504241622054B65347F25_PH00.fits)\n",
    "* [L1504241622054B65347F25_PH01.fits](https://fermi.gsfc.nasa.gov/ssc/data/analysis/scitools/data/pyLikelihood/L1504241622054B65347F25_PH01.fits)\n",
    "* [L1504241622054B65347F25_SC00.fits](https://fermi.gsfc.nasa.gov/ssc/data/analysis/scitools/data/pyLikelihood/L1504241622054B65347F25_SC00.fits)\n",
    "\n",
    "Make a working directory and then download all of the files into that directory."
   ]
  },
  {
   "cell_type": "code",
   "execution_count": 3,
   "metadata": {
    "collapsed": true
   },
   "outputs": [],
   "source": [
    "!mkdir working"
   ]
  },
  {
   "cell_type": "code",
   "execution_count": 4,
   "metadata": {
    "collapsed": true
   },
   "outputs": [],
   "source": [
    "import urllib"
   ]
  },
  {
   "cell_type": "code",
   "execution_count": 6,
   "metadata": {
    "collapsed": true
   },
   "outputs": [],
   "source": [
    "url_base = \"https://fermi.gsfc.nasa.gov/ssc/data/analysis/scitools/data/pyLikelihood/\"\n",
    "datafiles = [\"L1504241622054B65347F25_PH00.fits\", \n",
    "             \"L1504241622054B65347F25_PH01.fits\",\n",
    "             \"L1504241622054B65347F25_SC00.fits\",]"
   ]
  },
  {
   "cell_type": "code",
   "execution_count": 10,
   "metadata": {
    "collapsed": true
   },
   "outputs": [],
   "source": [
    "for datafile in datafiles:\n",
    "    urllib.urlretrieve(url_base+datafile,\"working/\"+datafile)"
   ]
  },
  {
   "cell_type": "code",
   "execution_count": 11,
   "metadata": {},
   "outputs": [
    {
     "name": "stdout",
     "output_type": "stream",
     "text": [
      "L1504241622054B65347F25_PH00.fits  L1504241622054B65347F25_SC00.fits\r\n",
      "L1504241622054B65347F25_PH01.fits\r\n"
     ]
    }
   ],
   "source": [
    "ls working/"
   ]
  },
  {
   "cell_type": "markdown",
   "metadata": {},
   "source": [
    "Now, you'll first need to make a file list with the names of your input event files:"
   ]
  },
  {
   "cell_type": "code",
   "execution_count": 13,
   "metadata": {
    "collapsed": true
   },
   "outputs": [],
   "source": [
    "ls -1 working/*PH*.fits > working/PG1553_events.list"
   ]
  },
  {
   "cell_type": "code",
   "execution_count": 15,
   "metadata": {
    "collapsed": true
   },
   "outputs": [],
   "source": [
    "mv working/L1504241622054B65347F25_SC00.fits working/PG1553_SC.fits"
   ]
  },
  {
   "cell_type": "markdown",
   "metadata": {},
   "source": [
    "In the following analysis we've assumed that you've named your list of data files PG1553_events.list and the spacecraft file PG1553_SC.fits."
   ]
  },
  {
   "cell_type": "code",
   "execution_count": 16,
   "metadata": {},
   "outputs": [
    {
     "name": "stdout",
     "output_type": "stream",
     "text": [
      "L1504241622054B65347F25_PH00.fits  PG1553_SC.fits\r\n",
      "L1504241622054B65347F25_PH01.fits  PG1553_events.list\r\n"
     ]
    }
   ],
   "source": [
    "ls working/"
   ]
  },
  {
   "cell_type": "markdown",
   "metadata": {},
   "source": [
    "## Perform Event Selections"
   ]
  },
  {
   "cell_type": "markdown",
   "metadata": {},
   "source": [
    "You could follow the unbinned likelihood tutorial to perform your event selections using gtlike, gtmktime etc. directly from the command line, and then use pylikelihood later. But we're going to go ahead and use python. The gt_apps module provides methods to call these tools from within python. This'll get us used to using python.\n",
    "\n",
    "So, let's jump into python:\n",
    "\n",
    "Ok, we want to run gtselect inside but we first need to import the gt_apps module to gain access to it."
   ]
  },
  {
   "cell_type": "code",
   "execution_count": 24,
   "metadata": {
    "collapsed": true
   },
   "outputs": [],
   "source": [
    "import gt_apps as my_apps"
   ]
  },
  {
   "cell_type": "markdown",
   "metadata": {},
   "source": [
    "Now, you can see what objects are part of the gt_apps module by executing:"
   ]
  },
  {
   "cell_type": "code",
   "execution_count": 18,
   "metadata": {},
   "outputs": [
    {
     "name": "stdout",
     "output_type": "stream",
     "text": [
      "Help on module gt_apps:\n",
      "\n",
      "NAME\n",
      "    gt_apps - This module uses GtApp to wraps the Science Tools as python objects.\n",
      "\n",
      "FILE\n",
      "    /usr/local/fermisoft/v11r5p3-fssc-20170716/x86_64-apple-darwin16.7.0/lib/python/gt_apps.py\n",
      "\n",
      "DATA\n",
      "    TsMap = <GtApp.GtApp object>\n",
      "    addCubes = <GtApp.GtApp object>\n",
      "    counts_map = <GtApp.GtApp object>\n",
      "    diffResps = <GtApp.GtApp object>\n",
      "    evtbin = <GtApp.GtApp object>\n",
      "    expCube = <GtApp.GtApp object>\n",
      "    expMap = <GtApp.GtApp object>\n",
      "    filter = <GtApp.GtApp object>\n",
      "    gtexpcube2 = <GtApp.GtApp object>\n",
      "    like = <GtApp.GtApp object>\n",
      "    maketime = <GtApp.GtApp object>\n",
      "    model_map = <GtApp.GtApp object>\n",
      "    obsSim = <GtApp.GtApp object>\n",
      "    rspgen = <GtApp.GtApp object>\n",
      "    srcMaps = <GtApp.GtApp object>\n",
      "\n",
      "\n"
     ]
    }
   ],
   "source": [
    "help(my_apps)"
   ]
  },
  {
   "cell_type": "markdown",
   "metadata": {},
   "source": [
    "Which brings up the help documentation for that module (type 'x' to exit).  The python object for gtselect is called filter and we first need to set all of it's options. This is very similar to calling gtselect form the command line and inputting all of the variables interactively. It might not seem that convenient to do it this way but it's really nice once you start building up scripts (see [Building a Light Curve](#lightcurve)) and reading back options and such. For example, towards the end of this thread, we'll want to generate a light curve and we'll have to run the likelihood analysis for each datapoint. It'll be much easier to do all of this within python and change the tmin and tmax in an iterative fashion. Note that these python objects are just wrappers for the standalone tools so if you want any information on their options, see the corresponding [documentation](/ssc/data/analysis/scitools/references.html) for the standalone tool."
   ]
  },
  {
   "cell_type": "code",
   "execution_count": 19,
   "metadata": {
    "collapsed": true
   },
   "outputs": [],
   "source": [
    "my_apps.filter['evclass'] = 128\n",
    "my_apps.filter['evtype'] = 3\n",
    "my_apps.filter['ra'] = 238.929\n",
    "my_apps.filter['dec'] = 11.1901\n",
    "my_apps.filter['rad'] = 10\n",
    "my_apps.filter['emin'] = 100\n",
    "my_apps.filter['emax'] = 300000\n",
    "my_apps.filter['zmax'] = 90\n",
    "my_apps.filter['tmin'] = 239557417\n",
    "my_apps.filter['tmax'] = 256970880\n",
    "my_apps.filter['infile'] = '@working/PG1553_events.list'\n",
    "my_apps.filter['outfile'] = 'working/PG1553_filtered.fits'"
   ]
  },
  {
   "cell_type": "markdown",
   "metadata": {},
   "source": [
    "Once this is done, run gtselect:"
   ]
  },
  {
   "cell_type": "code",
   "execution_count": 20,
   "metadata": {},
   "outputs": [
    {
     "name": "stdout",
     "output_type": "stream",
     "text": [
      "time -p /usr/local/fermisoft/v11r5p3-fssc-20170716/x86_64-apple-darwin16.7.0/bin/gtselect infile=@working/PG1553_events.list outfile=working/PG1553_filtered.fits ra=238.929 dec=11.1901 rad=10.0 tmin=239557417.0 tmax=256970880.0 emin=100.0 emax=300000.0 zmin=0.0 zmax=90.0 evclass=128 evclsmin=0 evclsmax=10 evtype=3 convtype=-1 phasemin=0.0 phasemax=1.0 evtable=\"EVENTS\" chatter=2 clobber=yes debug=no gui=no mode=\"ql\"\n",
      "Done.\n",
      "real 0.92\n",
      "user 0.70\n",
      "sys 0.10\n"
     ]
    }
   ],
   "source": [
    "my_apps.filter.run()"
   ]
  },
  {
   "cell_type": "markdown",
   "metadata": {},
   "source": [
    "Note that you can see exactly what gtselect will do if you run it by typing:"
   ]
  },
  {
   "cell_type": "code",
   "execution_count": 21,
   "metadata": {},
   "outputs": [
    {
     "data": {
      "text/plain": [
       "'time -p /usr/local/fermisoft/v11r5p3-fssc-20170716/x86_64-apple-darwin16.7.0/bin/gtselect infile=@working/PG1553_events.list outfile=working/PG1553_filtered.fits ra=238.929 dec=11.1901 rad=10.0 tmin=239557417.0 tmax=256970880.0 emin=100.0 emax=300000.0 zmin=0.0 zmax=90.0 evclass=128 evclsmin=0 evclsmax=10 evtype=3 convtype=-1 phasemin=0.0 phasemax=1.0 evtable=\"EVENTS\" chatter=2 clobber=yes debug=no gui=no mode=\"ql\"'"
      ]
     },
     "execution_count": 21,
     "metadata": {},
     "output_type": "execute_result"
    }
   ],
   "source": [
    "my_apps.filter.command()"
   ]
  },
  {
   "cell_type": "markdown",
   "metadata": {},
   "source": [
    "You have access to any of the inputs by directly accessing the `filter['OPTIONS']` options.\n",
    "\n",
    "Next, you need to run gtmktime. This is accessed within python via the maketime object:"
   ]
  },
  {
   "cell_type": "code",
   "execution_count": 25,
   "metadata": {},
   "outputs": [
    {
     "name": "stdout",
     "output_type": "stream",
     "text": [
      "time -p /usr/local/fermisoft/v11r5p3-fssc-20170716/x86_64-apple-darwin16.7.0/bin/gtmktime scfile=working/PG1553_SC.fits sctable=\"SC_DATA\" filter=\"(DATA_QUAL>0)&&(LAT_CONFIG==1)\" roicut=no evfile=working/PG1553_filtered.fits evtable=\"EVENTS\" outfile=\"working/PG1553_filtered_gti.fits\" apply_filter=yes overwrite=no header_obstimes=yes tstart=0.0 tstop=0.0 gtifile=\"default\" chatter=2 clobber=yes debug=no gui=no mode=\"ql\"\n",
      "real 2.65\n",
      "user 2.34\n",
      "sys 0.17\n"
     ]
    }
   ],
   "source": [
    "my_apps.maketime['scfile'] = 'working/PG1553_SC.fits'\n",
    "my_apps.maketime['filter'] = '(DATA_QUAL>0)&&(LAT_CONFIG==1)'\n",
    "my_apps.maketime['roicut'] = 'no'\n",
    "my_apps.maketime['evfile'] = 'working/PG1553_filtered.fits'\n",
    "my_apps.maketime['outfile'] = 'working/PG1553_filtered_gti.fits'\n",
    "my_apps.maketime.run()"
   ]
  },
  {
   "cell_type": "markdown",
   "metadata": {},
   "source": [
    "We're using the most conservative and most commonly used cuts described in detail in the [Cicerone](http://fermi.gsfc.nasa.gov/ssc/data/analysis/documentation/Cicerone/Cicerone_Likelihood/Exposure.html)."
   ]
  },
  {
   "cell_type": "markdown",
   "metadata": {},
   "source": [
    "## Livetime Cubes and Exposure Maps\n",
    "\n",
    "At this point, you could make a counts map of the events we just selected using gtbin (it's called evtbin within python) and I won't discourage you but we're going to go ahead and create a livetime cube and exposure map. This might take a few minutes to complete so if you want to create a counts map and have a look at it, get these processes going and open another terminal to work on your counts map (see the [likelihood tutorial](http://fermi.gsfc.nasa.gov/ssc/data/analysis/scitools/likelihood_tutorial.html#makeCountsMaps) for an example of running gtbin to produce a counts map).\n",
    "\n",
    "### Livetime Cube\n",
    "\n",
    "This step will take approximately 15 - 30 minutes to complete so if you want to just download the [PG1553_ltCube](http://fermi.gsfc.nasa.gov/ssc/data/analysis/scitools/data/pyLikelihood/PG1553_ltCube.fits) from us you can skip this step."
   ]
  },
  {
   "cell_type": "code",
   "execution_count": 26,
   "metadata": {},
   "outputs": [
    {
     "name": "stdout",
     "output_type": "stream",
     "text": [
      "time -p /usr/local/fermisoft/v11r5p3-fssc-20170716/x86_64-apple-darwin16.7.0/bin/gtltcube evfile=\"working/PG1553_filtered_gti.fits\" evtable=\"EVENTS\" scfile=working/PG1553_SC.fits sctable=\"SC_DATA\" outfile=working/PG1553_ltCube.fits dcostheta=0.025 binsz=1.0 phibins=0 tmin=0.0 tmax=0.0 file_version=\"1\" zmin=0.0 zmax=90.0 chatter=2 clobber=yes debug=no gui=no mode=\"ql\"\n",
      "Working on file working/PG1553_SC.fits\n",
      ".....................!\n",
      "real 641.76\n",
      "user 638.46\n",
      "sys 1.94\n"
     ]
    }
   ],
   "source": [
    "my_apps.expCube['evfile'] = 'working/PG1553_filtered_gti.fits'\n",
    "my_apps.expCube['scfile'] = 'working/PG1553_SC.fits'\n",
    "my_apps.expCube['outfile'] = 'working/PG1553_ltCube.fits'\n",
    "my_apps.expCube['zmax'] = 90\n",
    "my_apps.expCube['dcostheta'] = 0.025\n",
    "my_apps.expCube['binsz'] = 1\n",
    "my_apps.expCube.run()"
   ]
  },
  {
   "cell_type": "markdown",
   "metadata": {},
   "source": [
    "While you're waiting, you might have noticed that not all of the command line science tools have an equivalent object in gt_apps.  This is easy to fix.  Say you want to use gtltcubesun from within python. Just make it a GtApp:"
   ]
  },
  {
   "cell_type": "code",
   "execution_count": 27,
   "metadata": {},
   "outputs": [
    {
     "data": {
      "text/plain": [
       "'time -p /usr/local/fermisoft/v11r5p3-fssc-20170716/x86_64-apple-darwin16.7.0/bin/gtltcubesun evfile=\"\" evtable=\"EVENTS\" scfile= sctable=\"SC_DATA\" outfile=expCube.fits body=\"SUN\" dcostheta=0.025 thetasunmax=180.0 binsz=0.5 phibins=0 tmin=0.0 tmax=0.0 powerbinsun=2.7 file_version=\"1\" zmax=180.0 chatter=2 clobber=yes debug=no gui=no mode=\"ql\"'"
      ]
     },
     "execution_count": 27,
     "metadata": {},
     "output_type": "execute_result"
    }
   ],
   "source": [
    "from GtApp import GtApp\n",
    "expCubeSun = GtApp('gtltcubesun','Likelihood')\n",
    "expCubeSun.command()"
   ]
  },
  {
   "cell_type": "markdown",
   "metadata": {},
   "source": [
    "### Exposure Map"
   ]
  },
  {
   "cell_type": "code",
   "execution_count": 28,
   "metadata": {},
   "outputs": [
    {
     "name": "stdout",
     "output_type": "stream",
     "text": [
      "time -p /usr/local/fermisoft/v11r5p3-fssc-20170716/x86_64-apple-darwin16.7.0/bin/gtexpmap evfile=working/PG1553_filtered_gti.fits evtable=\"EVENTS\" scfile=working/PG1553_SC.fits sctable=\"SC_DATA\" expcube=working/PG1553_ltCube.fits outfile=working/PG1553_expMap.fits irfs=\"CALDB\" evtype=\"INDEF\" srcrad=20.0 nlong=120 nlat=120 nenergies=37 submap=no nlongmin=0 nlongmax=0 nlatmin=0 nlatmax=0 chatter=2 clobber=yes debug=no gui=no mode=\"ql\"\n",
      "The exposure maps generated by this tool are meant\n",
      "to be used for *unbinned* likelihood analysis only.\n",
      "Do not use them for binned analyses.\n",
      "Computing the ExposureMap using working/PG1553_ltCube.fits\n",
      "....................!\n",
      "real 337.57\n",
      "user 326.21\n",
      "sys 10.73\n"
     ]
    }
   ],
   "source": [
    "my_apps.expMap['evfile'] = 'working/PG1553_filtered_gti.fits'\n",
    "my_apps.expMap['scfile'] = 'working/PG1553_SC.fits'\n",
    "my_apps.expMap['expcube'] = 'working/PG1553_ltCube.fits'\n",
    "my_apps.expMap['outfile'] = 'working/PG1553_expMap.fits'\n",
    "my_apps.expMap['irfs'] = 'CALDB'\n",
    "my_apps.expMap['srcrad'] = 20\n",
    "my_apps.expMap['nlong'] = 120\n",
    "my_apps.expMap['nlat'] = 120\n",
    "my_apps.expMap['nenergies'] = 37\n",
    "my_apps.expMap.run()"
   ]
  },
  {
   "cell_type": "markdown",
   "metadata": {},
   "source": [
    "## Generate XML Model File\n",
    "\n",
    "We need to create an XML file with all of the sources of interest within the Region of Interest (ROI) of PG 1553+113 so we can correctly model the background. For more information on the format of the model file and how to create one, see the [likelihood analysis](https://fermi.gsfc.nasa.gov/ssc/data/analysis/scitools/likelihood_tutorial.html#createSourceModel) tutorial.  We'll use the user contributed tool `make3FGLxml.py` to create a model file based on the LAT 4-year LAT catalog. You'll need to download the FITS version of this file at [http://fermi.gsfc.nasa.gov/ssc/data/access/lat/4yr_catalog/](http://fermi.gsfc.nasa.gov/ssc/data/access/lat/4yr_catalog/) and get the [make3FGLxml.py](http://fermi.gsfc.nasa.gov/ssc/data/analysis/user/make3FGLxml.py) tool from the [user contributed software](http://fermi.gsfc.nasa.gov/ssc/data/analysis/user/) page and put them both in your working directory. Also make sure you have the most recent galactic diffuse and isotropic model files which can be found at [http://fermi.gsfc.nasa.gov/ssc/data/access/lat/BackgroundModels.html](http://fermi.gsfc.nasa.gov/ssc/data/access/lat/BackgroundModels.html).  In the following we assume that you have the galactic diffuse and isotropic files in your Science Tools install and we just make local symbolic links."
   ]
  },
  {
   "cell_type": "code",
   "execution_count": 29,
   "metadata": {},
   "outputs": [
    {
     "data": {
      "text/plain": [
       "('make3FGLxml.py', <httplib.HTTPMessage instance at 0x10aad0710>)"
      ]
     },
     "execution_count": 29,
     "metadata": {},
     "output_type": "execute_result"
    }
   ],
   "source": [
    "urllib.urlretrieve('http://fermi.gsfc.nasa.gov/ssc/data/analysis/user/make3FGLxml.py','make3FGLxml.py')"
   ]
  },
  {
   "cell_type": "code",
   "execution_count": 31,
   "metadata": {},
   "outputs": [
    {
     "data": {
      "text/plain": [
       "('working/gll_psc_v16.fit', <httplib.HTTPMessage instance at 0x10aad0a28>)"
      ]
     },
     "execution_count": 31,
     "metadata": {},
     "output_type": "execute_result"
    }
   ],
   "source": [
    "urllib.urlretrieve('https://fermi.gsfc.nasa.gov/ssc/data/access/lat/4yr_catalog/gll_psc_v16.fit',\n",
    "                   'working/gll_psc_v16.fit')"
   ]
  },
  {
   "cell_type": "code",
   "execution_count": 46,
   "metadata": {},
   "outputs": [],
   "source": [
    "!ln -s $FERMI_DIR/refdata/fermi/galdiffuse/iso_P8R2_SOURCE_V6_v06.txt working/iso_P8R2_SOURCE_V6_v06.txt"
   ]
  },
  {
   "cell_type": "code",
   "execution_count": 49,
   "metadata": {},
   "outputs": [],
   "source": [
    "!ln -s $FERMI_DIR/refdata/fermi/galdiffuse/gll_iem_v06.fits working/gll_iem_v06.fits"
   ]
  },
  {
   "cell_type": "code",
   "execution_count": 53,
   "metadata": {},
   "outputs": [
    {
     "name": "stdout",
     "output_type": "stream",
     "text": [
      "L1504241622054B65347F25_PH00.fits  PG1553_filtered_gti.fits\r\n",
      "L1504241622054B65347F25_PH01.fits  PG1553_ltCube.fits\r\n",
      "PG1553_SC.fits                     \u001b[35mgll_iem_v06.fits\u001b[m\u001b[m@\r\n",
      "PG1553_events.list                 gll_psc_v16.fit\r\n",
      "PG1553_expMap.fits                 \u001b[35miso_P8R2_SOURCE_V6_v06.txt\u001b[m\u001b[m@\r\n",
      "PG1553_filtered.fits\r\n"
     ]
    }
   ],
   "source": [
    "ls working"
   ]
  },
  {
   "cell_type": "markdown",
   "metadata": {},
   "source": [
    "Now that we have all of the files we need, you can generate your model file:"
   ]
  },
  {
   "cell_type": "code",
   "execution_count": 1,
   "metadata": {},
   "outputs": [
    {
     "name": "stdout",
     "output_type": "stream",
     "text": [
      "This is make3FGLxml version 01r0.\n",
      "The default diffuse model files and names are for pass 8 and assume you have v10r00p05 of the Fermi Science Tools or higher.\n"
     ]
    }
   ],
   "source": [
    "from make3FGLxml import *"
   ]
  },
  {
   "cell_type": "code",
   "execution_count": 4,
   "metadata": {},
   "outputs": [],
   "source": [
    "mymodel = srcList('working/gll_psc_v16.fit','working/PG1553_filtered_gti.fits','working/PG1553_model.xml')"
   ]
  },
  {
   "cell_type": "code",
   "execution_count": 5,
   "metadata": {},
   "outputs": [
    {
     "name": "stdout",
     "output_type": "stream",
     "text": [
      "Creating file and adding sources from 3FGL\n",
      "Added 58 point sources and 0 extended sources\n"
     ]
    }
   ],
   "source": [
    "mymodel.makeModel('working/gll_iem_v06.fit', \n",
    "                  'working/gll_iem_v06', \n",
    "                  'working/iso_P8R2_SOURCE_V6_v06.txt', \n",
    "                  'working/iso_P8R2_SOURCE_V6_v06')"
   ]
  },
  {
   "cell_type": "markdown",
   "metadata": {},
   "source": [
    "For more information on the make3FGLxml.py module, see the [usage notes(/ssc/data/analysis/user/readme_make3FGLxml.txt)\n",
    "\n",
    "You should now have a file called 'PG1553_model.xml'. Open it up with your favorite text editor and take a look at it. It should look like [PG1553_model.xml](https://fermi.gsfc.nasa.gov/ssc/data/analysis/scitools/PG1553_model.xml).  There should be seven sources within 4 degrees of the ROI center, nine sources between 4 and 8 degrees, and eight sources between 8 and 12 degrees (4 of which  are beyond 10 degrees and frozen). In all, there are 38 sources beyond 10 degrees. The script designates these as outside of the ROI (which is 10 degrees) and instructs us to leave all of the variables for these sources fixed. We'll agree with this (these sources are outside of our ROI but could still affect our fit since photons from these sources could fall within our ROI due to the LAT PSF). At the bottom of the file, the two diffuse sources are listed (the galactic diffuse and extragalactic isotropic).\n",
    "\n",
    "Notice that we've deviated a bit from the published paper here. In the paper, the LAT team only included two sources; one from the 0FGL catalog and another, non-catalog source. This is because the later LAT  catalogs had not been released at the time. However, these 3FGL sources are still in the data we've downloaded and should be modeled.\n",
    "\n",
    "Back to looking at our XML model file, notice that all of the sources have been set up with various spectral models (see the [Cicerone](https://fermi.gsfc.nasa.gov//ssc/data/analysis/documentation/Cicerone/Cicerone_Likelihood/Model_Selection.html) for details on the different spectral models) and the module we ran filled in the values for the spectrum from the 3FGL catalog. Also notice that PG 1553+113 is listed in the model file as 3FGL J1555.7+1111 with all of the parameters filled in for us. It's actually offset from the center of our ROI by 0.008 degrees. How nice! The only problem with this is that trying to use the 3FGL model for for multiple years of data (Log Parabola) will cause us some issues for such a short time duration as we are analyzing here. Therefore we want to change the model for 3FGL J155.7+1111 to a simple power-law for the purposes of this analysis thread. You'll have to modify the relevant python scripts on your own to match whatever source model may be relevant for your data.\n",
    "\n",
    "In the xml file, change the entry for 3FGL J1555.7+1111 from \t\t\t\t\t\t\t\t\t\t\t\t\t      "
   ]
  },
  {
   "cell_type": "raw",
   "metadata": {},
   "source": [
    "<source ROI_Center_Distance=\"0.008\" name=\"3FGL J1555.7+1111 \" type=\"PointSource\">\n",
    "        <spectrum apply_edisp=\"false\" type=\"LogParabola\">\n",
    "        <!-- Source is 0.00802140915217 degrees away from ROI center -->\n",
    "                <parameter free=\"1\" max=\"1e4\" min=\"1e-4\" name=\"norm\" scale=\"1e-12\" value=\"4.82531809648\"/>\n",
    "                <parameter free=\"1\" max=\"5.0\" min=\"0.0\" name=\"alpha\" scale=\"1.0\" value=\"1.60433\"/>\n",
    "                <parameter free=\"1\" max=\"10.0\" min=\"0.0\" name=\"beta\" scale=\"1.0\" value=\"0.0388407\"/>\n",
    "                <parameter free=\"0\" max=\"5e5\" min=\"30\" name=\"Eb\" scale=\"1.0\" value=\"1491.38\"/>\n",
    "        </spectrum>\n",
    "        <spatialModel type=\"SkyDirFunction\">\n",
    "                <parameter free=\"0\" max=\"360.0\" min=\"-360.0\" name=\"RA\" scale=\"1.0\" value=\"238.936\"/>\n",
    "                <parameter free=\"0\" max=\"90\" min=\"-90\" name=\"DEC\" scale=\"1.0\" value=\"11.1939\"/>\n",
    "        </spatialModel>\n",
    "</source>"
   ]
  },
  {
   "cell_type": "markdown",
   "metadata": {},
   "source": [
    "to"
   ]
  },
  {
   "cell_type": "raw",
   "metadata": {},
   "source": [
    "<source ROI_Center_Distance=\"0.008\" name=\"3FGL J1555.7+1111 \" type=\"PointSource\">\n",
    "        <spectrum apply_edisp=\"false\" type=\"PowerLaw\">\n",
    "        <!-- Source is 0.00802140915217 degrees away from ROI center -->\n",
    "                <parameter free=\"1\" max=\"1e4\" min=\"1e-4\" name=\"Prefactor\" scale=\"1e-11\" value=\"1.0\"/>\n",
    "                <parameter free=\"1\" max=\"10.0\" min=\"0.0\" name=\"Index\" scale=\"-1.0\" value=\"2.5\"/>\n",
    "                <parameter free=\"0\" max=\"5e5\" min=\"30\" name=\"Scale\" scale=\"1.0\" value=\"500\"/>\n",
    "        </spectrum>\n",
    "        <spatialModel type=\"SkyDirFunction\">\n",
    "                <parameter free=\"0\" max=\"360.0\" min=\"-360.0\" name=\"RA\" scale=\"1.0\" value=\"238.936\"/>\n",
    "                <parameter free=\"0\" max=\"90\" min=\"-90\" name=\"DEC\" scale=\"1.0\" value=\"11.1939\"/>\n",
    "        </spatialModel>\n",
    "</source>"
   ]
  },
  {
   "cell_type": "markdown",
   "metadata": {},
   "source": [
    "Save the file, return to your python window and then you're off to the races once more....."
   ]
  },
  {
   "cell_type": "code",
   "execution_count": null,
   "metadata": {
    "collapsed": true
   },
   "outputs": [],
   "source": []
  }
 ],
 "metadata": {
  "kernelspec": {
   "display_name": "Python 2",
   "language": "python",
   "name": "python2"
  },
  "language_info": {
   "codemirror_mode": {
    "name": "ipython",
    "version": 2
   },
   "file_extension": ".py",
   "mimetype": "text/x-python",
   "name": "python",
   "nbconvert_exporter": "python",
   "pygments_lexer": "ipython2",
   "version": "2.7.8"
  }
 },
 "nbformat": 4,
 "nbformat_minor": 2
}
