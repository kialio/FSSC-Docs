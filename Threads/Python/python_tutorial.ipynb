{
 "cells": [
  {
   "cell_type": "markdown",
   "metadata": {},
   "source": [
    "# Likelihood Analysis with Python"
   ]
  },
  {
   "cell_type": "markdown",
   "metadata": {},
   "source": [
    "The python likelihood tools are a very powerful set of analysis tools that expand upon the command line tools provided with the Fermi Science Tools package. Not only can you perform all of the same likelihood analysis with the python tools that you can with the standard command line tools but you can directly access all of the model parameters.  You can more easily script a standard analysis like light curve generation.  There are also a few things built into the python tools that are not available from the command line like the calculation of upper limits.\n",
    "\n",
    "There are many [user contributed packages](https://fermi.gsfc.nasa.gov/ssc/data/analysis/user/) built upon the python backbone of the Science Tools and we are going to highlight and use a few of them in this tutorial like likeSED, make3FGLxml, and the LATAnalysisScripts.\n",
    "\n",
    "This sample analysis is based on the PG 1553+113 analysis performed by the LAT team and described in [Abdo, A. A. et al. 2010, ApJ, 708, 1310](http://adsabs.harvard.edu/abs/2010ApJ...708.1310A). At certain points we will refer to this article as well as the [Cicerone](https://fermi.gsfc.nasa.gov/ssc/data/analysis/documentation/Cicerone/). After you complete this tutorial you should be able to reproduce all of the data analysis performed in this publication including generating a spectrum (individual bins and a butterfly plot) and produce a light curve with the python tools.  This tutorial assumes you have the most recent [ScienceTools](https://fermi.gsfc.nasa.gov/ssc/data/analysis/software/) installed. We will also make significant use of python, so you might want to familiarize yourself with python (there's a beginner's guide at http://wiki.python.org/moin/BeginnersGuide. This tutorial also assumes that you've gone through the non-python based [unbinned likelihood](https://fermi.gsfc.nasa.gov/ssc/data/analysis/scitools/likelihood_tutorial.html) thread. This tutorial should take approximately 8 hours to complete (depending on your computer's speed) if you do everything but there are some steps you can skip along the way which shave off about 4 hours of that.\n",
    "\n",
    "> **Note:** This tutorial is generated from a [jupyter notebook](https://github.com/kialio/FSSC-Docs/blob/master/Threads/Python/python_tutorial.ipynb) which you can download and run yourself (the prefereed method). You can also run individual commands listed on this page.  If you do that, be aware that some commands must be executed in an ipython/jupyter environment."
   ]
  },
  {
   "cell_type": "markdown",
   "metadata": {
    "collapsed": true
   },
   "source": [
    "## Get the Data\n",
    "\n",
    "For this thread the original data were extracted from the [LAT data server](https://fermi.gsfc.nasa.gov/cgi-bin/ssc/LAT/LATDataQuery.cgi) with the following selections (these selections are similar to those in the paper):\n",
    "\n",
    "* Search Center (RA,Dec) = (238.929,11.1901)\n",
    "* Radius = 20 degrees\n",
    "* Start Time (MET) = 239557417 seconds (2008-08-04T15:43:37)\n",
    "* Stop Time (MET) = 256970880 seconds (2009-02-22T04:48:00)\n",
    "* Minimum Energy = 100 MeV\n",
    "* Maximum Energy = 300000 MeV\n",
    "\n",
    "We've provided direct links to the event files as well as the spacecraft data file if you don't want to take the time to use the download server. For more information on how to download LAT data please see the [Extract LAT Data](https://fermi.gsfc.nasa.gov/ssc/data/analysis/scitools/explore_latdata.html) tutorial.\n",
    "\n",
    "* [L1504241622054B65347F25_PH00.fits](https://fermi.gsfc.nasa.gov/ssc/data/analysis/scitools/data/pyLikelihood/L1504241622054B65347F25_PH00.fits)\n",
    "* [L1504241622054B65347F25_PH01.fits](https://fermi.gsfc.nasa.gov/ssc/data/analysis/scitools/data/pyLikelihood/L1504241622054B65347F25_PH01.fits)\n",
    "* [L1504241622054B65347F25_SC00.fits](https://fermi.gsfc.nasa.gov/ssc/data/analysis/scitools/data/pyLikelihood/L1504241622054B65347F25_SC00.fits)\n",
    "\n",
    "Make a working directory and then download all of the files into that directory."
   ]
  },
  {
   "cell_type": "code",
   "execution_count": 3,
   "metadata": {
    "collapsed": true
   },
   "outputs": [],
   "source": [
    "!mkdir working"
   ]
  },
  {
   "cell_type": "code",
   "execution_count": 4,
   "metadata": {
    "collapsed": true
   },
   "outputs": [],
   "source": [
    "import urllib"
   ]
  },
  {
   "cell_type": "code",
   "execution_count": 6,
   "metadata": {
    "collapsed": true
   },
   "outputs": [],
   "source": [
    "url_base = \"https://fermi.gsfc.nasa.gov/ssc/data/analysis/scitools/data/pyLikelihood/\"\n",
    "datafiles = [\"L1504241622054B65347F25_PH00.fits\", \n",
    "             \"L1504241622054B65347F25_PH01.fits\",\n",
    "             \"L1504241622054B65347F25_SC00.fits\",]"
   ]
  },
  {
   "cell_type": "code",
   "execution_count": 10,
   "metadata": {
    "collapsed": true
   },
   "outputs": [],
   "source": [
    "for datafile in datafiles:\n",
    "    urllib.urlretrieve(url_base+datafile,\"working/\"+datafile)"
   ]
  },
  {
   "cell_type": "code",
   "execution_count": 11,
   "metadata": {},
   "outputs": [
    {
     "name": "stdout",
     "output_type": "stream",
     "text": [
      "L1504241622054B65347F25_PH00.fits  L1504241622054B65347F25_SC00.fits\r\n",
      "L1504241622054B65347F25_PH01.fits\r\n"
     ]
    }
   ],
   "source": [
    "ls working/"
   ]
  },
  {
   "cell_type": "markdown",
   "metadata": {},
   "source": [
    "Now, you'll first need to make a file list with the names of your input event files:"
   ]
  },
  {
   "cell_type": "code",
   "execution_count": 13,
   "metadata": {
    "collapsed": true
   },
   "outputs": [],
   "source": [
    "ls -1 working/*PH*.fits > working/PG1553_events.list"
   ]
  },
  {
   "cell_type": "code",
   "execution_count": 15,
   "metadata": {
    "collapsed": true
   },
   "outputs": [],
   "source": [
    "mv working/L1504241622054B65347F25_SC00.fits working/PG1553_SC.fits"
   ]
  },
  {
   "cell_type": "markdown",
   "metadata": {},
   "source": [
    "In the following analysis we've assumed that you've named your list of data files PG1553_events.list and the spacecraft file PG1553_SC.fits."
   ]
  },
  {
   "cell_type": "code",
   "execution_count": 16,
   "metadata": {},
   "outputs": [
    {
     "name": "stdout",
     "output_type": "stream",
     "text": [
      "L1504241622054B65347F25_PH00.fits  PG1553_SC.fits\r\n",
      "L1504241622054B65347F25_PH01.fits  PG1553_events.list\r\n"
     ]
    }
   ],
   "source": [
    "ls working/"
   ]
  },
  {
   "cell_type": "markdown",
   "metadata": {},
   "source": [
    "## Perform Event Selections"
   ]
  },
  {
   "cell_type": "markdown",
   "metadata": {},
   "source": [
    "You could follow the unbinned likelihood tutorial to perform your event selections using gtlike, gtmktime etc. directly from the command line, and then use pylikelihood later. But we're going to go ahead and use python. The gt_apps module provides methods to call these tools from within python. This'll get us used to using python.\n",
    "\n",
    "So, let's jump into python:\n",
    "\n",
    "Ok, we want to run gtselect inside but we first need to import the gt_apps module to gain access to it."
   ]
  },
  {
   "cell_type": "code",
   "execution_count": 14,
   "metadata": {
    "collapsed": true
   },
   "outputs": [],
   "source": [
    "import gt_apps as my_apps"
   ]
  },
  {
   "cell_type": "markdown",
   "metadata": {},
   "source": [
    "Now, you can see what objects are part of the gt_apps module by executing:"
   ]
  },
  {
   "cell_type": "code",
   "execution_count": 18,
   "metadata": {},
   "outputs": [
    {
     "name": "stdout",
     "output_type": "stream",
     "text": [
      "Help on module gt_apps:\n",
      "\n",
      "NAME\n",
      "    gt_apps - This module uses GtApp to wraps the Science Tools as python objects.\n",
      "\n",
      "FILE\n",
      "    /usr/local/fermisoft/v11r5p3-fssc-20170716/x86_64-apple-darwin16.7.0/lib/python/gt_apps.py\n",
      "\n",
      "DATA\n",
      "    TsMap = <GtApp.GtApp object>\n",
      "    addCubes = <GtApp.GtApp object>\n",
      "    counts_map = <GtApp.GtApp object>\n",
      "    diffResps = <GtApp.GtApp object>\n",
      "    evtbin = <GtApp.GtApp object>\n",
      "    expCube = <GtApp.GtApp object>\n",
      "    expMap = <GtApp.GtApp object>\n",
      "    filter = <GtApp.GtApp object>\n",
      "    gtexpcube2 = <GtApp.GtApp object>\n",
      "    like = <GtApp.GtApp object>\n",
      "    maketime = <GtApp.GtApp object>\n",
      "    model_map = <GtApp.GtApp object>\n",
      "    obsSim = <GtApp.GtApp object>\n",
      "    rspgen = <GtApp.GtApp object>\n",
      "    srcMaps = <GtApp.GtApp object>\n",
      "\n",
      "\n"
     ]
    }
   ],
   "source": [
    "help(my_apps)"
   ]
  },
  {
   "cell_type": "markdown",
   "metadata": {},
   "source": [
    "Which brings up the help documentation for that module (type 'x' to exit).  The python object for gtselect is called filter and we first need to set all of it's options. This is very similar to calling gtselect form the command line and inputting all of the variables interactively. It might not seem that convenient to do it this way but it's really nice once you start building up scripts (see [Building a Light Curve](#lightcurve)) and reading back options and such. For example, towards the end of this thread, we'll want to generate a light curve and we'll have to run the likelihood analysis for each datapoint. It'll be much easier to do all of this within python and change the tmin and tmax in an iterative fashion. Note that these python objects are just wrappers for the standalone tools so if you want any information on their options, see the corresponding [documentation](/ssc/data/analysis/scitools/references.html) for the standalone tool."
   ]
  },
  {
   "cell_type": "code",
   "execution_count": 19,
   "metadata": {
    "collapsed": true
   },
   "outputs": [],
   "source": [
    "my_apps.filter['evclass'] = 128\n",
    "my_apps.filter['evtype'] = 3\n",
    "my_apps.filter['ra'] = 238.929\n",
    "my_apps.filter['dec'] = 11.1901\n",
    "my_apps.filter['rad'] = 10\n",
    "my_apps.filter['emin'] = 100\n",
    "my_apps.filter['emax'] = 300000\n",
    "my_apps.filter['zmax'] = 90\n",
    "my_apps.filter['tmin'] = 239557417\n",
    "my_apps.filter['tmax'] = 256970880\n",
    "my_apps.filter['infile'] = '@working/PG1553_events.list'\n",
    "my_apps.filter['outfile'] = 'working/PG1553_filtered.fits'"
   ]
  },
  {
   "cell_type": "markdown",
   "metadata": {},
   "source": [
    "Once this is done, run gtselect:"
   ]
  },
  {
   "cell_type": "code",
   "execution_count": 20,
   "metadata": {},
   "outputs": [
    {
     "name": "stdout",
     "output_type": "stream",
     "text": [
      "time -p /usr/local/fermisoft/v11r5p3-fssc-20170716/x86_64-apple-darwin16.7.0/bin/gtselect infile=@working/PG1553_events.list outfile=working/PG1553_filtered.fits ra=238.929 dec=11.1901 rad=10.0 tmin=239557417.0 tmax=256970880.0 emin=100.0 emax=300000.0 zmin=0.0 zmax=90.0 evclass=128 evclsmin=0 evclsmax=10 evtype=3 convtype=-1 phasemin=0.0 phasemax=1.0 evtable=\"EVENTS\" chatter=2 clobber=yes debug=no gui=no mode=\"ql\"\n",
      "Done.\n",
      "real 0.92\n",
      "user 0.70\n",
      "sys 0.10\n"
     ]
    }
   ],
   "source": [
    "my_apps.filter.run()"
   ]
  },
  {
   "cell_type": "markdown",
   "metadata": {},
   "source": [
    "Note that you can see exactly what gtselect will do if you run it by typing:"
   ]
  },
  {
   "cell_type": "code",
   "execution_count": 21,
   "metadata": {},
   "outputs": [
    {
     "data": {
      "text/plain": [
       "'time -p /usr/local/fermisoft/v11r5p3-fssc-20170716/x86_64-apple-darwin16.7.0/bin/gtselect infile=@working/PG1553_events.list outfile=working/PG1553_filtered.fits ra=238.929 dec=11.1901 rad=10.0 tmin=239557417.0 tmax=256970880.0 emin=100.0 emax=300000.0 zmin=0.0 zmax=90.0 evclass=128 evclsmin=0 evclsmax=10 evtype=3 convtype=-1 phasemin=0.0 phasemax=1.0 evtable=\"EVENTS\" chatter=2 clobber=yes debug=no gui=no mode=\"ql\"'"
      ]
     },
     "execution_count": 21,
     "metadata": {},
     "output_type": "execute_result"
    }
   ],
   "source": [
    "my_apps.filter.command()"
   ]
  },
  {
   "cell_type": "markdown",
   "metadata": {},
   "source": [
    "You have access to any of the inputs by directly accessing the `filter['OPTIONS']` options.\n",
    "\n",
    "Next, you need to run gtmktime. This is accessed within python via the maketime object:"
   ]
  },
  {
   "cell_type": "code",
   "execution_count": 25,
   "metadata": {},
   "outputs": [
    {
     "name": "stdout",
     "output_type": "stream",
     "text": [
      "time -p /usr/local/fermisoft/v11r5p3-fssc-20170716/x86_64-apple-darwin16.7.0/bin/gtmktime scfile=working/PG1553_SC.fits sctable=\"SC_DATA\" filter=\"(DATA_QUAL>0)&&(LAT_CONFIG==1)\" roicut=no evfile=working/PG1553_filtered.fits evtable=\"EVENTS\" outfile=\"working/PG1553_filtered_gti.fits\" apply_filter=yes overwrite=no header_obstimes=yes tstart=0.0 tstop=0.0 gtifile=\"default\" chatter=2 clobber=yes debug=no gui=no mode=\"ql\"\n",
      "real 2.65\n",
      "user 2.34\n",
      "sys 0.17\n"
     ]
    }
   ],
   "source": [
    "my_apps.maketime['scfile'] = 'working/PG1553_SC.fits'\n",
    "my_apps.maketime['filter'] = '(DATA_QUAL>0)&&(LAT_CONFIG==1)'\n",
    "my_apps.maketime['roicut'] = 'no'\n",
    "my_apps.maketime['evfile'] = 'working/PG1553_filtered.fits'\n",
    "my_apps.maketime['outfile'] = 'working/PG1553_filtered_gti.fits'\n",
    "my_apps.maketime.run()"
   ]
  },
  {
   "cell_type": "markdown",
   "metadata": {},
   "source": [
    "We're using the most conservative and most commonly used cuts described in detail in the [Cicerone](http://fermi.gsfc.nasa.gov/ssc/data/analysis/documentation/Cicerone/Cicerone_Likelihood/Exposure.html)."
   ]
  },
  {
   "cell_type": "markdown",
   "metadata": {},
   "source": [
    "## Livetime Cubes and Exposure Maps\n",
    "\n",
    "At this point, you could make a counts map of the events we just selected using gtbin (it's called evtbin within python) and I won't discourage you but we're going to go ahead and create a livetime cube and exposure map. This might take a few minutes to complete so if you want to create a counts map and have a look at it, get these processes going and open another terminal to work on your counts map (see the [likelihood tutorial](http://fermi.gsfc.nasa.gov/ssc/data/analysis/scitools/likelihood_tutorial.html#makeCountsMaps) for an example of running gtbin to produce a counts map).\n",
    "\n",
    "### Livetime Cube\n",
    "\n",
    "This step will take approximately 15 - 30 minutes to complete so if you want to just download the [PG1553_ltCube](http://fermi.gsfc.nasa.gov/ssc/data/analysis/scitools/data/pyLikelihood/PG1553_ltCube.fits) from us you can skip this step."
   ]
  },
  {
   "cell_type": "code",
   "execution_count": 26,
   "metadata": {},
   "outputs": [
    {
     "name": "stdout",
     "output_type": "stream",
     "text": [
      "time -p /usr/local/fermisoft/v11r5p3-fssc-20170716/x86_64-apple-darwin16.7.0/bin/gtltcube evfile=\"working/PG1553_filtered_gti.fits\" evtable=\"EVENTS\" scfile=working/PG1553_SC.fits sctable=\"SC_DATA\" outfile=working/PG1553_ltCube.fits dcostheta=0.025 binsz=1.0 phibins=0 tmin=0.0 tmax=0.0 file_version=\"1\" zmin=0.0 zmax=90.0 chatter=2 clobber=yes debug=no gui=no mode=\"ql\"\n",
      "Working on file working/PG1553_SC.fits\n",
      ".....................!\n",
      "real 641.76\n",
      "user 638.46\n",
      "sys 1.94\n"
     ]
    }
   ],
   "source": [
    "my_apps.expCube['evfile'] = 'working/PG1553_filtered_gti.fits'\n",
    "my_apps.expCube['scfile'] = 'working/PG1553_SC.fits'\n",
    "my_apps.expCube['outfile'] = 'working/PG1553_ltCube.fits'\n",
    "my_apps.expCube['zmax'] = 90\n",
    "my_apps.expCube['dcostheta'] = 0.025\n",
    "my_apps.expCube['binsz'] = 1\n",
    "my_apps.expCube.run()"
   ]
  },
  {
   "cell_type": "markdown",
   "metadata": {},
   "source": [
    "While you're waiting, you might have noticed that not all of the command line science tools have an equivalent object in gt_apps.  This is easy to fix.  Say you want to use gtltcubesun from within python. Just make it a GtApp:"
   ]
  },
  {
   "cell_type": "code",
   "execution_count": 27,
   "metadata": {},
   "outputs": [
    {
     "data": {
      "text/plain": [
       "'time -p /usr/local/fermisoft/v11r5p3-fssc-20170716/x86_64-apple-darwin16.7.0/bin/gtltcubesun evfile=\"\" evtable=\"EVENTS\" scfile= sctable=\"SC_DATA\" outfile=expCube.fits body=\"SUN\" dcostheta=0.025 thetasunmax=180.0 binsz=0.5 phibins=0 tmin=0.0 tmax=0.0 powerbinsun=2.7 file_version=\"1\" zmax=180.0 chatter=2 clobber=yes debug=no gui=no mode=\"ql\"'"
      ]
     },
     "execution_count": 27,
     "metadata": {},
     "output_type": "execute_result"
    }
   ],
   "source": [
    "from GtApp import GtApp\n",
    "expCubeSun = GtApp('gtltcubesun','Likelihood')\n",
    "expCubeSun.command()"
   ]
  },
  {
   "cell_type": "markdown",
   "metadata": {},
   "source": [
    "### Exposure Map"
   ]
  },
  {
   "cell_type": "code",
   "execution_count": 28,
   "metadata": {},
   "outputs": [
    {
     "name": "stdout",
     "output_type": "stream",
     "text": [
      "time -p /usr/local/fermisoft/v11r5p3-fssc-20170716/x86_64-apple-darwin16.7.0/bin/gtexpmap evfile=working/PG1553_filtered_gti.fits evtable=\"EVENTS\" scfile=working/PG1553_SC.fits sctable=\"SC_DATA\" expcube=working/PG1553_ltCube.fits outfile=working/PG1553_expMap.fits irfs=\"CALDB\" evtype=\"INDEF\" srcrad=20.0 nlong=120 nlat=120 nenergies=37 submap=no nlongmin=0 nlongmax=0 nlatmin=0 nlatmax=0 chatter=2 clobber=yes debug=no gui=no mode=\"ql\"\n",
      "The exposure maps generated by this tool are meant\n",
      "to be used for *unbinned* likelihood analysis only.\n",
      "Do not use them for binned analyses.\n",
      "Computing the ExposureMap using working/PG1553_ltCube.fits\n",
      "....................!\n",
      "real 337.57\n",
      "user 326.21\n",
      "sys 10.73\n"
     ]
    }
   ],
   "source": [
    "my_apps.expMap['evfile'] = 'working/PG1553_filtered_gti.fits'\n",
    "my_apps.expMap['scfile'] = 'working/PG1553_SC.fits'\n",
    "my_apps.expMap['expcube'] = 'working/PG1553_ltCube.fits'\n",
    "my_apps.expMap['outfile'] = 'working/PG1553_expMap.fits'\n",
    "my_apps.expMap['irfs'] = 'CALDB'\n",
    "my_apps.expMap['srcrad'] = 20\n",
    "my_apps.expMap['nlong'] = 120\n",
    "my_apps.expMap['nlat'] = 120\n",
    "my_apps.expMap['nenergies'] = 37\n",
    "my_apps.expMap.run()"
   ]
  },
  {
   "cell_type": "markdown",
   "metadata": {},
   "source": [
    "## Generate XML Model File\n",
    "\n",
    "We need to create an XML file with all of the sources of interest within the Region of Interest (ROI) of PG 1553+113 so we can correctly model the background. For more information on the format of the model file and how to create one, see the [likelihood analysis](https://fermi.gsfc.nasa.gov/ssc/data/analysis/scitools/likelihood_tutorial.html#createSourceModel) tutorial.  We'll use the user contributed tool `make3FGLxml.py` to create a model file based on the LAT 4-year LAT catalog. You'll need to download the FITS version of this file at [http://fermi.gsfc.nasa.gov/ssc/data/access/lat/4yr_catalog/](http://fermi.gsfc.nasa.gov/ssc/data/access/lat/4yr_catalog/) and get the [make3FGLxml.py](http://fermi.gsfc.nasa.gov/ssc/data/analysis/user/make3FGLxml.py) tool from the [user contributed software](http://fermi.gsfc.nasa.gov/ssc/data/analysis/user/) page and put them both in your working directory. Also make sure you have the most recent galactic diffuse and isotropic model files which can be found at [http://fermi.gsfc.nasa.gov/ssc/data/access/lat/BackgroundModels.html](http://fermi.gsfc.nasa.gov/ssc/data/access/lat/BackgroundModels.html).  In the following we assume that you have the galactic diffuse and isotropic files in your Science Tools install and we just make local symbolic links."
   ]
  },
  {
   "cell_type": "code",
   "execution_count": 29,
   "metadata": {},
   "outputs": [
    {
     "data": {
      "text/plain": [
       "('make3FGLxml.py', <httplib.HTTPMessage instance at 0x10aad0710>)"
      ]
     },
     "execution_count": 29,
     "metadata": {},
     "output_type": "execute_result"
    }
   ],
   "source": [
    "urllib.urlretrieve('http://fermi.gsfc.nasa.gov/ssc/data/analysis/user/make3FGLxml.py','make3FGLxml.py')"
   ]
  },
  {
   "cell_type": "code",
   "execution_count": 31,
   "metadata": {},
   "outputs": [
    {
     "data": {
      "text/plain": [
       "('working/gll_psc_v16.fit', <httplib.HTTPMessage instance at 0x10aad0a28>)"
      ]
     },
     "execution_count": 31,
     "metadata": {},
     "output_type": "execute_result"
    }
   ],
   "source": [
    "urllib.urlretrieve('https://fermi.gsfc.nasa.gov/ssc/data/access/lat/4yr_catalog/gll_psc_v16.fit',\n",
    "                   'working/gll_psc_v16.fit')"
   ]
  },
  {
   "cell_type": "code",
   "execution_count": 46,
   "metadata": {},
   "outputs": [],
   "source": [
    "!ln -s $FERMI_DIR/refdata/fermi/galdiffuse/iso_P8R2_SOURCE_V6_v06.txt working/iso_P8R2_SOURCE_V6_v06.txt"
   ]
  },
  {
   "cell_type": "code",
   "execution_count": 49,
   "metadata": {},
   "outputs": [],
   "source": [
    "!ln -s $FERMI_DIR/refdata/fermi/galdiffuse/gll_iem_v06.fits working/gll_iem_v06.fits"
   ]
  },
  {
   "cell_type": "code",
   "execution_count": 53,
   "metadata": {},
   "outputs": [
    {
     "name": "stdout",
     "output_type": "stream",
     "text": [
      "L1504241622054B65347F25_PH00.fits  PG1553_filtered_gti.fits\r\n",
      "L1504241622054B65347F25_PH01.fits  PG1553_ltCube.fits\r\n",
      "PG1553_SC.fits                     \u001b[35mgll_iem_v06.fits\u001b[m\u001b[m@\r\n",
      "PG1553_events.list                 gll_psc_v16.fit\r\n",
      "PG1553_expMap.fits                 \u001b[35miso_P8R2_SOURCE_V6_v06.txt\u001b[m\u001b[m@\r\n",
      "PG1553_filtered.fits\r\n"
     ]
    }
   ],
   "source": [
    "ls working"
   ]
  },
  {
   "cell_type": "markdown",
   "metadata": {},
   "source": [
    "Now that we have all of the files we need, you can generate your model file:"
   ]
  },
  {
   "cell_type": "code",
   "execution_count": 1,
   "metadata": {},
   "outputs": [
    {
     "name": "stdout",
     "output_type": "stream",
     "text": [
      "This is make3FGLxml version 01r0.\n",
      "The default diffuse model files and names are for pass 8 and assume you have v10r00p05 of the Fermi Science Tools or higher.\n"
     ]
    }
   ],
   "source": [
    "from make3FGLxml import *"
   ]
  },
  {
   "cell_type": "code",
   "execution_count": 17,
   "metadata": {},
   "outputs": [
    {
     "name": "stdout",
     "output_type": "stream",
     "text": [
      "Warning: working/PG1553_model.xml already exists, file will be overwritten if you proceed with makeModel.\n"
     ]
    }
   ],
   "source": [
    "mymodel = srcList('working/gll_psc_v16.fit','working/PG1553_filtered_gti.fits','working/PG1553_model.xml')"
   ]
  },
  {
   "cell_type": "code",
   "execution_count": 18,
   "metadata": {},
   "outputs": [
    {
     "name": "stdout",
     "output_type": "stream",
     "text": [
      "Creating file and adding sources from 3FGL\n",
      "Added 58 point sources and 0 extended sources\n"
     ]
    }
   ],
   "source": [
    "mymodel.makeModel('working/gll_iem_v06.fits', \n",
    "                  'working/gll_iem_v06', \n",
    "                  'working/iso_P8R2_SOURCE_V6_v06.txt', \n",
    "                  'working/iso_P8R2_SOURCE_V6_v06')"
   ]
  },
  {
   "cell_type": "markdown",
   "metadata": {},
   "source": [
    "For more information on the make3FGLxml.py module, see the [usage notes(/ssc/data/analysis/user/readme_make3FGLxml.txt)\n",
    "\n",
    "You should now have a file called 'PG1553_model.xml'. Open it up with your favorite text editor and take a look at it. It should look like [PG1553_model.xml](https://fermi.gsfc.nasa.gov/ssc/data/analysis/scitools/PG1553_model.xml).  There should be seven sources within 4 degrees of the ROI center, nine sources between 4 and 8 degrees, and eight sources between 8 and 12 degrees (4 of which  are beyond 10 degrees and frozen). In all, there are 38 sources beyond 10 degrees. The script designates these as outside of the ROI (which is 10 degrees) and instructs us to leave all of the variables for these sources fixed. We'll agree with this (these sources are outside of our ROI but could still affect our fit since photons from these sources could fall within our ROI due to the LAT PSF). At the bottom of the file, the two diffuse sources are listed (the galactic diffuse and extragalactic isotropic).\n",
    "\n",
    "Notice that we've deviated a bit from the published paper here. In the paper, the LAT team only included two sources; one from the 0FGL catalog and another, non-catalog source. This is because the later LAT  catalogs had not been released at the time. However, these 3FGL sources are still in the data we've downloaded and should be modeled.\n",
    "\n",
    "Back to looking at our XML model file, notice that all of the sources have been set up with various spectral models (see the [Cicerone](https://fermi.gsfc.nasa.gov//ssc/data/analysis/documentation/Cicerone/Cicerone_Likelihood/Model_Selection.html) for details on the different spectral models) and the module we ran filled in the values for the spectrum from the 3FGL catalog. Also notice that PG 1553+113 is listed in the model file as 3FGL J1555.7+1111 with all of the parameters filled in for us. It's actually offset from the center of our ROI by 0.008 degrees. How nice! The only problem with this is that trying to use the 3FGL model for for multiple years of data (Log Parabola) will cause us some issues for such a short time duration as we are analyzing here. Therefore we want to change the model for 3FGL J155.7+1111 to a simple power-law for the purposes of this analysis thread. You'll have to modify the relevant python scripts on your own to match whatever source model may be relevant for your data.\n",
    "\n",
    "In the xml file, change the entry for 3FGL J1555.7+1111 from \t\t\t\t\t\t\t\t\t\t\t\t\t      "
   ]
  },
  {
   "cell_type": "raw",
   "metadata": {},
   "source": [
    "<code>\t\t\t\t\t\t\t\n",
    "&lt;source ROI_Center_Distance=\"0.008\" name=\"3FGL J1555.7+1111\" type=\"PointSource\"&gt; <br>\t\t\t      \n",
    "       &lt;spectrum apply_edisp=\"false\" type=\"LogParabola\">\t<br>\t\t\t\t\t\t\t\t      \n",
    "        &lt;!-- Source is 0.00802140915217 degrees away from ROI center --> <br>\t\t\t\t      \n",
    "                &lt;parameter free=\"1\" max=\"1e4\" min=\"1e-4\" name=\"norm\" scale=\"1e-12\" value=\"4.82531809648\"/>  <br>  \n",
    "                &lt;parameter free=\"1\" max=\"5.0\" min=\"0.0\" name=\"alpha\" scale=\"1.0\" value=\"1.60433\"/>\t      <br>\n",
    "                &lt;parameter free=\"1\" max=\"10.0\" min=\"0.0\" name=\"beta\" scale=\"1.0\" value=\"0.0388407\"/>\t      <br>\n",
    "                &lt;parameter free=\"0\" max=\"5e5\" min=\"30\" name=\"Eb\" scale=\"1.0\" value=\"1491.38\"/>\t\t  <br>    \n",
    "        &lt;/spectrum>\t<br>\t\t\t\t\t\t\t\t\t\t      \n",
    "        &lt;spatialModel type=\"SkyDirFunction\"> <br>\t\t\t\t\t\t\t\t      \n",
    "                &lt;parameter free=\"0\" max=\"360.0\" min=\"-360.0\" name=\"RA\" scale=\"1.0\" value=\"238.936\"/>\t  <br>    \n",
    "                &lt;parameter free=\"0\" max=\"90\" min=\"-90\" name=\"DEC\" scale=\"1.0\" value=\"11.1939\"/>\t\t<br>      \n",
    "        &lt;/spatialModel>\t<br>\t\t\t\t\t\t\t\t\t\t\t\t\t\t      \n",
    "</code>\t"
   ]
  },
  {
   "cell_type": "markdown",
   "metadata": {},
   "source": [
    "to"
   ]
  },
  {
   "cell_type": "raw",
   "metadata": {},
   "source": [
    "<code>\t\t\t\t\t\t\t\t\t\t\t\t\t      \t\t\t\t\t\t\t\t\t\t\t\t      \n",
    "&lt;source ROI_Center_Distance=\"0.008\" name=\"3FGL J1555.7+1111\" type=\"PointSource\">\t\t\t      <br>\n",
    "  &lt;spectrum apply_edisp=\"false\" type=\"PowerLaw\">\t\t\t\t\t\t\t\t\t\t      <br>\n",
    "        &lt;!-- Source is 0.00802140915217 degrees away from ROI center -->\t\t\t\t      <br>\n",
    "                &lt;parameter free=\"1\" max=\"1e4\" min=\"1e-4\" name=\"Prefactor\" scale=\"1e-11\" value=\"1.0\"/>      <br>  \n",
    "                &lt;parameter free=\"1\" max=\"10.0\" min=\"0.0\" name=\"Index\" scale=\"-1.0\" value=\"2.5\"/>\t      <br>\n",
    "                &lt;parameter free=\"0\" max=\"5e5\" min=\"30\" name=\"Scale\" scale=\"1.0\" value=\"500\"/>\t      <br>  \n",
    "        &lt;/spectrum>\t\t\t\t\t\t\t\t\t\t\t      <br>\n",
    "        &lt;spatialModel type=\"SkyDirFunction\">\t\t\t\t\t\t\t\t      <br>\n",
    "                &lt;parameter free=\"0\" max=\"360.0\" min=\"-360.0\" name=\"RA\" scale=\"1.0\" value=\"238.936\"/>\t      <br>\n",
    "                &lt;parameter free=\"0\" max=\"90\" min=\"-90\" name=\"DEC\" scale=\"1.0\" value=\"11.1939\"/>\t      <br>  \n",
    "        &lt;/spatialModel>\t\t\t\t\t\t\t\t\t\t      <br>  \n",
    "&lt;/source> <br>\n",
    "</code>\t\t\t\t\t\t\t\t\t\t\t\t\t      "
   ]
  },
  {
   "cell_type": "markdown",
   "metadata": {},
   "source": [
    "## Compute the diffuse source responses.\n",
    "\n",
    "The diffuse source responses tell the likelihood fitter what the expected contribution would be for each diffuse source, given the livetime associated with each event. The source model XML file must contain all of the diffuse sources to be fit. The [gtdiffrsp](https://fermi.gsfc.nasa.gov/ssc/data/analysis/scitools/help/gtdiffrsp.txt) tool will add one column to the event data file for each diffuse source. The diffuse response depends on the instrument response function (IRF), which must be in agreement with the selection of events, i.e. the event class and event type we are using in our analysis. Since we are using SOURCE class, CALDB should use the P8R2_SOURCE_V6 IRF for this tool.\n",
    "\n",
    "If the diffuse responses are not precomputed using [gtdiffrsp](https://fermi.gsfc.nasa.gov/ssc/data/analysis/scitools/help/gtdiffrsp.txt), then the [gtlike](https://fermi.gsfc.nasa.gov/ssc/data/analysis/scitools/help/gtlike.txt) tool will compute them at runtime (during the next step). However, as this step is very computationally intensive (often taking ~hours to complete), and it is very likely you will need to run [gtlike](https://fermi.gsfc.nasa.gov/ssc/data/analysis/scitools/help/gtlike.txt) more than once, it is probably wise to precompute these quantities.\n"
   ]
  },
  {
   "cell_type": "code",
   "execution_count": 19,
   "metadata": {},
   "outputs": [
    {
     "name": "stdout",
     "output_type": "stream",
     "text": [
      "time -p /usr/local/fermisoft/v11r5p3-fssc-20170716/x86_64-apple-darwin16.7.0/bin/gtdiffrsp evfile=working/PG1553_filtered_gti.fits evtable=\"EVENTS\" scfile=working/PG1553_SC.fits sctable=\"SC_DATA\" srcmdl=working/PG1553_model.xml irfs=\"CALDB\" evclsmin=0 evclass=\"INDEF\" evtype=\"INDEF\" convert=no chatter=2 clobber=no debug=no gui=no mode=\"ql\"\n",
      "adding source working/gll_iem_v06\n",
      "adding source working/iso_P8R2_SOURCE_V6_v06\n",
      "Working on...\n",
      "working/PG1553_filtered_gti.fits.....................!\n",
      "real 2438.70\n",
      "user 1487.95\n",
      "sys 6.18\n"
     ]
    }
   ],
   "source": [
    "my_apps.diffResps['evfile'] = 'working/PG1553_filtered_gti.fits'\n",
    "my_apps.diffResps['scfile'] = 'working/PG1553_SC.fits'\n",
    "my_apps.diffResps['srcmdl'] = 'working/PG1553_model.xml'\n",
    "my_apps.diffResps['irfs'] = 'CALDB'\n",
    "my_apps.diffResps.run()"
   ]
  },
  {
   "cell_type": "markdown",
   "metadata": {},
   "source": [
    "## Run the Likelihood Analysis\n",
    "\n",
    "It's time to actually run the likelihood analysis now. First, you need to import the pyLikelihood module and then the UnbinnedAnalysis functions (there's also a binned analysis module that you can import to do [binned likelihood analysis](https://fermi.gsfc.nasa.gov//ssc/data/analysis/scitools/binned_likelihood_tutorial.html) which behaves almost exactly the same as the unbinned analysis module).  For more details on the pyLikelihood module, check out the [pyLikelihood Usage Notes](https://fermi.gsfc.nasa.gov//ssc/data/analysis/scitools/python_usage_notes.html)."
   ]
  },
  {
   "cell_type": "code",
   "execution_count": 20,
   "metadata": {
    "collapsed": true
   },
   "outputs": [],
   "source": [
    "import pyLikelihood\n",
    "from UnbinnedAnalysis import *\n",
    "obs = UnbinnedObs('working/PG1553_filtered_gti.fits',\n",
    "                  'working/PG1553_SC.fits',\n",
    "                  expMap='working/PG1553_expMap.fits',\n",
    "                  expCube='working/PG1553_ltCube.fits',\n",
    "                  irfs='CALDB')\n",
    "like = UnbinnedAnalysis(obs,'working/PG1553_model.xml',optimizer='NewMinuit')"
   ]
  },
  {
   "cell_type": "markdown",
   "metadata": {},
   "source": [
    "By now, you'll have two objects, 'obs', an UnbinnedObs object and like, an UnbinnedAnalysis object. You can view these objects attributes and set them from the command line in various ways. For example:"
   ]
  },
  {
   "cell_type": "code",
   "execution_count": 21,
   "metadata": {},
   "outputs": [
    {
     "name": "stdout",
     "output_type": "stream",
     "text": [
      "Event file(s): working/PG1553_filtered_gti.fits\n",
      "Spacecraft file(s): working/PG1553_SC.fits\n",
      "Exposure map: working/PG1553_expMap.fits\n",
      "Exposure cube: working/PG1553_ltCube.fits\n",
      "IRFs: CALDB\n"
     ]
    }
   ],
   "source": [
    "print obs"
   ]
  },
  {
   "cell_type": "code",
   "execution_count": 22,
   "metadata": {},
   "outputs": [
    {
     "name": "stdout",
     "output_type": "stream",
     "text": [
      "Event file(s): working/PG1553_filtered_gti.fits\n",
      "Spacecraft file(s): working/PG1553_SC.fits\n",
      "Exposure map: working/PG1553_expMap.fits\n",
      "Exposure cube: working/PG1553_ltCube.fits\n",
      "IRFs: CALDB\n",
      "Source model file: working/PG1553_model.xml\n",
      "Optimizer: NewMinuit\n"
     ]
    }
   ],
   "source": [
    "print like"
   ]
  },
  {
   "cell_type": "markdown",
   "metadata": {},
   "source": [
    "or you can get directly at the objects attributes and methods by:"
   ]
  },
  {
   "cell_type": "code",
   "execution_count": 23,
   "metadata": {},
   "outputs": [
    {
     "data": {
      "text/plain": [
       "['NpredValue',\n",
       " 'Ts',\n",
       " 'Ts_old',\n",
       " '_Nobs',\n",
       " '__call__',\n",
       " '__class__',\n",
       " '__delattr__',\n",
       " '__dict__',\n",
       " '__doc__',\n",
       " '__format__',\n",
       " '__getattribute__',\n",
       " '__getitem__',\n",
       " '__hash__',\n",
       " '__init__',\n",
       " '__module__',\n",
       " '__new__',\n",
       " '__reduce__',\n",
       " '__reduce_ex__',\n",
       " '__repr__',\n",
       " '__setattr__',\n",
       " '__setitem__',\n",
       " '__sizeof__',\n",
       " '__str__',\n",
       " '__subclasshook__',\n",
       " '__weakref__',\n",
       " '_errors',\n",
       " '_importPlotter',\n",
       " '_inputs',\n",
       " '_isDiffuseOrNearby',\n",
       " '_minosIndexError',\n",
       " '_npredValues',\n",
       " '_plotData',\n",
       " '_plotResiduals',\n",
       " '_plotSource',\n",
       " '_renorm',\n",
       " '_separation',\n",
       " '_setSourceAttributes',\n",
       " '_srcCnts',\n",
       " '_srcDialog',\n",
       " '_xrange',\n",
       " 'addSource',\n",
       " 'covar_is_current',\n",
       " 'covariance',\n",
       " 'deleteSource',\n",
       " 'disp',\n",
       " 'e_vals',\n",
       " 'energies',\n",
       " 'energyFlux',\n",
       " 'energyFluxError',\n",
       " 'fit',\n",
       " 'flux',\n",
       " 'fluxError',\n",
       " 'freePars',\n",
       " 'freeze',\n",
       " 'getExtraSourceAttributes',\n",
       " 'logLike',\n",
       " 'maxdist',\n",
       " 'mergeSources',\n",
       " 'minosError',\n",
       " 'model',\n",
       " 'nFreeParams',\n",
       " 'nobs',\n",
       " 'nobs_wt',\n",
       " 'normPar',\n",
       " 'observation',\n",
       " 'oplot',\n",
       " 'optObject',\n",
       " 'optimize',\n",
       " 'optimizer',\n",
       " 'par_index',\n",
       " 'params',\n",
       " 'plot',\n",
       " 'plotSource',\n",
       " 'plotSourceFit',\n",
       " 'reset_ebounds',\n",
       " 'resids',\n",
       " 'restoreBestFit',\n",
       " 'saveCurrentFit',\n",
       " 'scan',\n",
       " 'setEnergyRange',\n",
       " 'setFitTolType',\n",
       " 'setFreeFlag',\n",
       " 'setPlotter',\n",
       " 'setSpectrum',\n",
       " 'sourceFitPlots',\n",
       " 'sourceFitResids',\n",
       " 'sourceNames',\n",
       " 'splitCompositeSource',\n",
       " 'srcModel',\n",
       " 'state',\n",
       " 'syncSrcParams',\n",
       " 'thaw',\n",
       " 'tol',\n",
       " 'tolType',\n",
       " 'total_nobs',\n",
       " 'writeCountsSpectra',\n",
       " 'writeXml']"
      ]
     },
     "execution_count": 23,
     "metadata": {},
     "output_type": "execute_result"
    }
   ],
   "source": [
    "dir(like)"
   ]
  },
  {
   "cell_type": "markdown",
   "metadata": {},
   "source": [
    "or get even more details by executing:"
   ]
  },
  {
   "cell_type": "code",
   "execution_count": 24,
   "metadata": {},
   "outputs": [
    {
     "name": "stdout",
     "output_type": "stream",
     "text": [
      "Help on UnbinnedAnalysis in module UnbinnedAnalysis object:\n",
      "\n",
      "class UnbinnedAnalysis(AnalysisBase.AnalysisBase)\n",
      " |  Method resolution order:\n",
      " |      UnbinnedAnalysis\n",
      " |      AnalysisBase.AnalysisBase\n",
      " |      __builtin__.object\n",
      " |  \n",
      " |  Methods defined here:\n",
      " |  \n",
      " |  __init__(self, observation, srcModel=None, optimizer='Drmngb', nee=21)\n",
      " |  \n",
      " |  plotSourceFit(self, srcName, color='black')\n",
      " |  \n",
      " |  reset_ebounds(self, new_energies)\n",
      " |  \n",
      " |  setEnergyRange(self, emin, emax)\n",
      " |  \n",
      " |  state(self, output=<ipykernel.iostream.OutStream object>)\n",
      " |  \n",
      " |  ----------------------------------------------------------------------\n",
      " |  Methods inherited from AnalysisBase.AnalysisBase:\n",
      " |  \n",
      " |  NpredValue(self, src, weighted=False)\n",
      " |      Returns the number of predicted counts for a source.\n",
      " |  \n",
      " |  Ts(self, srcName, reoptimize=False, approx=True, tol=None, MaxIterations=10, verbosity=0)\n",
      " |      Computes the TS value for a source indicated by \"srcName.\"\n",
      " |      If \"reoptimize=True\" is selected this function will reoptimize\n",
      " |      the model up to \"MaxIterations\" given the tolerance \"tol\"\n",
      " |      (default is the tolerance selected for the overall fit).  If\n",
      " |      \"appox=True\" is selected (the default) it will renormalize the\n",
      " |      model (see _renorm).\n",
      " |  \n",
      " |  Ts_old(self, srcName, reoptimize=False, approx=True, tol=None)\n",
      " |      NOTE: this is the old method. Computes the TS value for a\n",
      " |      source indicated by \"srcName.\"  If \"reoptimize=True\" is\n",
      " |      selected this function will reoptimize the model given the\n",
      " |      tolerance \"tol\" (default is the tolerance selected for the\n",
      " |      overall fit).  If \"appox=True\" is selected (the default) it\n",
      " |      will renormalize the model (see _renorm).\n",
      " |  \n",
      " |  __call__(self)\n",
      " |  \n",
      " |  __getitem__(self, name)\n",
      " |  \n",
      " |  __repr__(self)\n",
      " |  \n",
      " |  __setitem__(self, name, value)\n",
      " |  \n",
      " |  addSource(self, src)\n",
      " |      Add a source to the active model.  You should pass a source\n",
      " |      object to this function.  Example:\n",
      " |      \n",
      " |      > test_src = pyLike.PointSource(0, 0, like.observation.observation)\n",
      " |      > pl = pyLike.SourceFactory_funcFactory().create(\"PowerLaw\")\n",
      " |      > pl.setParamValues((1, -2, 100))\n",
      " |      > indexPar = pl.getParam(\"Index\")\n",
      " |      > indexPar.setBounds(-3.5, -1)\n",
      " |      > pl.setParam(indexPar)\n",
      " |      > prefactor = pl.getParam(\"Prefactor\")\n",
      " |      > prefactor.setBounds(1e-10, 1e3)\n",
      " |      > prefactor.setScale(1e-9)\n",
      " |      > pl.setParam(prefactor)\n",
      " |      > test_src.setSpectrum(pl)\n",
      " |      > test_src.setName(\"testSource\")\n",
      " |      > test_src.setDir(193.45,-5.83,True,False)\n",
      " |      > like.addSource(test_src)\n",
      " |      \n",
      " |      You could also use the delete source function to return a\n",
      " |      fully formed source object and modify the parameters of that.\n",
      " |  \n",
      " |  deleteSource(self, srcName)\n",
      " |      Removes a source with name \"srcName\" from the model.  It\n",
      " |      returns this source object so you can save it and use it\n",
      " |      later.\n",
      " |  \n",
      " |  energyFlux(self, srcName, emin=100, emax=300000.0)\n",
      " |      Returns the differential flux for a source with name\n",
      " |      \"srcName\" bewtween emin and emax (in MeV).\n",
      " |  \n",
      " |  energyFluxError(self, srcName, emin=100, emax=300000.0, npts=1000)\n",
      " |      Returns the error on the differential flux for a source\n",
      " |      with name \"srcName\" between emin and emax (in MeV).  \"npts\" is\n",
      " |      the number of energy points to use in the error calculation.\n",
      " |  \n",
      " |  fit(self, verbosity=3, tol=None, optimizer=None, covar=False, optObject=None)\n",
      " |      Perform the likelihood fit.  If \"tol\" is set to \"None\" it\n",
      " |      reverts to the global tolerance.  If \"optimizer\" is set to\n",
      " |      \"None\" it reverts to the global optimizer.  You can\n",
      " |      selectively calculate the covariance matrix by setting\n",
      " |      \"covar=True\".  You can also provide an optimization object via\n",
      " |      \"optObject = myOpt\" if you would like access to the optimizer\n",
      " |      results like the return codes after the fit (see pyLike for\n",
      " |      more details).  This function returns -Log(like).\n",
      " |  \n",
      " |  flux(self, srcName, emin=100, emax=300000.0, energyFlux=False)\n",
      " |      Returns the flux for a source with name \"srcName\" from emin\n",
      " |      (in MeV) to emax (in MeV).  If \"energyFlux=False\" it returns\n",
      " |      the integral flux; if True it will return the differential\n",
      " |      flux.\n",
      " |  \n",
      " |  fluxError(self, srcName, emin=100, emax=300000.0, energyFlux=False, npts=1000)\n",
      " |      Returns the error on the flux for a source with name\n",
      " |      \"srcName\" from emin (in MeV) to emax (in MeV).  If\n",
      " |      \"energyFlux=False\" it returns the integral flux; if True it\n",
      " |      will return the differential flux.\n",
      " |  \n",
      " |  freePars(self, srcName)\n",
      " |      Returns a tuple that contains all of the free parameters\n",
      " |      for a specific source indicated by \"srcName\".\n",
      " |  \n",
      " |  freeze(self, i)\n",
      " |      Freezes a parameter with the given parameter index.  Use\n",
      " |      the par_index function to determine the index number of a\n",
      " |      specific parameter of a specific source.\n",
      " |  \n",
      " |  getExtraSourceAttributes(self)\n",
      " |      Returns all of the extra attributes of all of the sources\n",
      " |      in the model.  These are any attributes that are not \"funcs\"\n",
      " |      or \"src\" which includes things like \"name\" and \"type\".\n",
      " |  \n",
      " |  mergeSources(self, compName, sourceNames, specFuncName)\n",
      " |      Merge a set of sources into a single composite source\n",
      " |  \n",
      " |  minosError(self, *args)\n",
      " |      Evaluate the minos errors for a Minuit or NewMinuit fit.\n",
      " |      There are several ways to call this function:\n",
      " |      \n",
      " |         minosError(index): pass the parameter index only\n",
      " |         minosError(index,level): pass the parameter index and the\n",
      " |                                  level\n",
      " |         minosError(srcName,parName): pass the source name and\n",
      " |                                      the parameter name\n",
      " |      \n",
      " |      The \"level\" parameter is used to dynamically set a new error\n",
      " |      definition.  The default is suitable for a -log(like) analysis\n",
      " |      (1, sets the minuit level to 0.5, see\n",
      " |      Minuit2::FCNBase::ErrorDef).  Setting this to 2 would be\n",
      " |      suitable for a chi^2 analysis.\n",
      " |  \n",
      " |  nFreeParams(self)\n",
      " |      Count the number of free parameters in the active model.\n",
      " |  \n",
      " |  normPar(self, srcName)\n",
      " |      Returns the normalization paramter of a souce specified by\n",
      " |      \"srcName\" (for example, it will return the \"Prefactor\"\n",
      " |      parameter of a source described by a PowerLaw).\n",
      " |  \n",
      " |  oplot(self, color=None)\n",
      " |  \n",
      " |  optimize(self, verbosity=3, tol=None, optimizer=None, optObject=None)\n",
      " |      Optimize the current model.  You can increase the verbosity\n",
      " |      of the optimizer using the verbosity option (default is 3).\n",
      " |      If \"tol\" is none, it will use the global tolerance.  If\n",
      " |      \"optimizer\" is none it will use the global optimizer.  If\n",
      " |      \"optObject\" is none it will create one.  It will not replace\n",
      " |      the global optObject (self.optObject) with this one if it\n",
      " |      exists but if it is none, it will replace it with the new one.\n",
      " |      This function is different from the \"fit\" routine in that it\n",
      " |      does not calculate the covarience matrix.\n",
      " |  \n",
      " |  par_index(self, srcName, parName)\n",
      " |      Returns the parameter index number in the model of the\n",
      " |      parameter identified by \"parName\" for a specific source\n",
      " |      identified by \"srcName\".\n",
      " |  \n",
      " |  params(self)\n",
      " |      Returns a list of all of the parameters in the active\n",
      " |      model.\n",
      " |  \n",
      " |  plot(self, oplot=0, color=None, omit=(), symbol='line')\n",
      " |  \n",
      " |  plotSource(self, srcName, color='black', symbol='line')\n",
      " |  \n",
      " |  restoreBestFit(self)\n",
      " |      Restores the previously saved fit values saved via the\n",
      " |      \"saveCurrentFit\" function.\n",
      " |  \n",
      " |  saveCurrentFit(self)\n",
      " |      Saves the active fit parameter values if this fit happens\n",
      " |      to have a better log likelihood value than the one currently\n",
      " |      saved.  If it does, it replaces the saved fit with the active\n",
      " |      one.\n",
      " |  \n",
      " |  scan(self, srcName, parName, xmin=0, xmax=10, npts=50, tol=None, optimizer=None, optObject=None, fix_src_pars=False, verbosity=0, renorm=False)\n",
      " |      This function scans the values of a specific parameter\n",
      " |      specified by \"parName\" of a specific source specified by\n",
      " |      \"srcName\" in the range [xmin:xmax] with a resolution of npts.\n",
      " |      It then optimizes the active model.  This function returns two\n",
      " |      arrays: the first is an array of the x values evaluated and\n",
      " |      the second is an array of the change in likelihood value from\n",
      " |      the original model at those x values.  You can also pass True\n",
      " |      to \"fix_src_pars\" to fix all of the parameters of the source\n",
      " |      of interest.  The other options are similar to the fit and\n",
      " |      optimize functions.\n",
      " |  \n",
      " |  setFitTolType(self, tolType)\n",
      " |      Set the tolerance type of the fit.  Valid values of\n",
      " |      \"tolType\" are \"0\" for RELATIVE and \"1\" for ABSOLUTE.\n",
      " |  \n",
      " |  setFreeFlag(self, srcName, pars, value)\n",
      " |      Sets the free flag to free (value = 1) or frozen (value =\n",
      " |      0) for the list of parameters indicated by pars for a specific\n",
      " |      source indicated by srcName.\n",
      " |  \n",
      " |  setPlotter(self, plotter='hippo')\n",
      " |  \n",
      " |  setSpectrum(self, srcName, functionName)\n",
      " |      Set the spectral shape of a source identified by \"srcName\".\n",
      " |      The \"functionName\" is a string that must be one of the\n",
      " |      avaialble spectral functions (i.e. PowerLaw, PowerLaw2 etc.).\n",
      " |      You can also pass a spectrum object (see the addSource\n",
      " |      docString for more details).  The spectral parameters of this\n",
      " |      new model will be set to defaults which are probably not what\n",
      " |      you want them to be.\n",
      " |  \n",
      " |  sourceNames(self)\n",
      " |      Returns a tuple that contains all of the source names in the model\n",
      " |  \n",
      " |  splitCompositeSource(self, compName)\n",
      " |      break apart a composite source and return a tuple with \n",
      " |      the names of new sources and the spectral function\n",
      " |  \n",
      " |  syncSrcParams(self, src=None)\n",
      " |      Synchronizes the parameters of a source (identified by\n",
      " |      \"src\") with the active model.  This is useful if you add or\n",
      " |      delete a source from the model and want to reevaluate the log\n",
      " |      likelihood values.\n",
      " |  \n",
      " |  thaw(self, i)\n",
      " |      Thaws a parameter with the given parameter index.  Use the\n",
      " |      par_index function to determine the index number of a specific\n",
      " |      parameter of a specific source.\n",
      " |  \n",
      " |  total_nobs(self, weighted=False)\n",
      " |      Returns the total number of observed counts in the RoI.\n",
      " |  \n",
      " |  writeCountsSpectra(self, outfile='counts_spectra.fits', nee=21)\n",
      " |      Writes a FITS file with the name \"outfile\" that contains\n",
      " |      the counts spectra of all of the sources in the active model.\n",
      " |      This is the same file that is written out by the balistic\n",
      " |      gtlike program.\n",
      " |  \n",
      " |  writeXml(self, xmlFile=None)\n",
      " |      Write out an xml representation of the active model with\n",
      " |      the filename xmlFile.  If xmlFile is None (the default) it\n",
      " |      will overwrite the global xml file (i.e. the original file).\n",
      " |  \n",
      " |  ----------------------------------------------------------------------\n",
      " |  Data descriptors inherited from AnalysisBase.AnalysisBase:\n",
      " |  \n",
      " |  __dict__\n",
      " |      dictionary for instance variables (if defined)\n",
      " |  \n",
      " |  __weakref__\n",
      " |      list of weak references to the object (if defined)\n",
      "\n"
     ]
    }
   ],
   "source": [
    "help(like)"
   ]
  },
  {
   "cell_type": "markdown",
   "metadata": {},
   "source": [
    "There are a lot of attributes and here you start to see the power of using pyLikelihood since you'll be able (once the fit is done) to access any of these attributes directly within python and use them in your own scripts. For example, you can see that the like object has a 'tol' attribute which we can read back to see what it is and then set it to what we want it to be."
   ]
  },
  {
   "cell_type": "code",
   "execution_count": 25,
   "metadata": {},
   "outputs": [
    {
     "data": {
      "text/plain": [
       "0.001"
      ]
     },
     "execution_count": 25,
     "metadata": {},
     "output_type": "execute_result"
    }
   ],
   "source": [
    "like.tol"
   ]
  },
  {
   "cell_type": "code",
   "execution_count": 26,
   "metadata": {},
   "outputs": [
    {
     "data": {
      "text/plain": [
       "1"
      ]
     },
     "execution_count": 26,
     "metadata": {},
     "output_type": "execute_result"
    }
   ],
   "source": [
    "like.tolType"
   ]
  },
  {
   "cell_type": "markdown",
   "metadata": {},
   "source": [
    "The tolType can be '0' for relative or '1' for absolute."
   ]
  },
  {
   "cell_type": "code",
   "execution_count": 27,
   "metadata": {
    "collapsed": true
   },
   "outputs": [],
   "source": [
    "like.tol = 0.0001"
   ]
  },
  {
   "cell_type": "markdown",
   "metadata": {},
   "source": [
    "Now, we're ready to do the actual fit. This next step will take approximately 10 minutes to complete.  We're doing something a bit fancy here.  We're getting the minimizating object (and calling it `likeobj`) from the logLike object so that we can access it later.  We pass this object to the fit routine so that it knows which fitting object to use.  We're also telling the code to calculate the\n",
    "covariance matrix so we can get at the errors."
   ]
  },
  {
   "cell_type": "code",
   "execution_count": 28,
   "metadata": {},
   "outputs": [
    {
     "data": {
      "text/plain": [
       "569507.079086078"
      ]
     },
     "execution_count": 28,
     "metadata": {},
     "output_type": "execute_result"
    }
   ],
   "source": [
    "likeobj = pyLike.NewMinuit(like.logLike)\n",
    "like.fit(verbosity=0,covar=True,optObject=likeobj)"
   ]
  },
  {
   "cell_type": "markdown",
   "metadata": {},
   "source": [
    "The number that is printed out here is the -log(Likelihood) of the total fit to the data. You can print the results of the fit by accessing like.model. You can also access the fit for a particular source by doing the following (the source name must match that in the XML model file).\n",
    "\n",
    "> Note there is a bug in the XML file that puts a trailing space in the source name."
   ]
  },
  {
   "cell_type": "code",
   "execution_count": 52,
   "metadata": {},
   "outputs": [
    {
     "data": {
      "text/plain": [
       "3FGL J1555.7+1111 \n",
       "   Spectrum: PowerLaw\n",
       "111    Prefactor:  3.395e+00  5.924e-02  1.000e-04  1.000e+04 ( 1.000e-11)\n",
       "112        Index:  1.634e+00  8.154e-03  0.000e+00  1.000e+01 (-1.000e+00)\n",
       "113        Scale:  5.000e+02  0.000e+00  3.000e+01  5.000e+05 ( 1.000e+00) fixed"
      ]
     },
     "execution_count": 52,
     "metadata": {},
     "output_type": "execute_result"
    }
   ],
   "source": [
    "like.model['3FGL J1555.7+1111 ']"
   ]
  },
  {
   "cell_type": "markdown",
   "metadata": {},
   "source": [
    "You can plot the results of the fit by executing the plot command. The results are shown below:\n"
   ]
  },
  {
   "cell_type": "code",
   "execution_count": 59,
   "metadata": {
    "collapsed": true
   },
   "outputs": [],
   "source": [
    "like.setPlotter(plotter='python')"
   ]
  },
  {
   "cell_type": "code",
   "execution_count": 60,
   "metadata": {
    "collapsed": true
   },
   "outputs": [],
   "source": [
    "%matplotlib inline"
   ]
  },
  {
   "cell_type": "code",
   "execution_count": null,
   "metadata": {
    "collapsed": true
   },
   "outputs": [],
   "source": []
  }
 ],
 "metadata": {
  "kernelspec": {
   "display_name": "Python 2",
   "language": "python",
   "name": "python2"
  },
  "language_info": {
   "codemirror_mode": {
    "name": "ipython",
    "version": 2
   },
   "file_extension": ".py",
   "mimetype": "text/x-python",
   "name": "python",
   "nbconvert_exporter": "python",
   "pygments_lexer": "ipython2",
   "version": "2.7.8"
  }
 },
 "nbformat": 4,
 "nbformat_minor": 2
}
