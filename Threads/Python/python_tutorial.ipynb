{
 "cells": [
  {
   "cell_type": "markdown",
   "metadata": {},
   "source": [
    "# Likelihood Analysis with Python\n",
    "\n",
    "<a name=\"top\" id=\"top\"></a>\n",
    "\n",
    "The python likelihood tools are a very powerful set of analysis tools that expand upon the command line tools provided with the Fermi Science Tools package. Not only can you perform all of the same likelihood analysis with the python tools that you can with the standard command line tools but you can directly access all of the model parameters.  You can more easily script a standard analysis like light curve generation.  There are also a few things built into the python tools that are not available from the command line like the calculation of upper limits.\n",
    "\n",
    "There are many <a href=\"/ssc/data/analysis/user/\">user contributed packages</a> built upon the python backbone of the Science Tools and we are going to highlight and use a few of them in this tutorial like likeSED, make3FGLxml, and the LATAnalysisScripts.\n",
    "\n",
    "This sample analysis is based on the PG 1553+113 analysis performed by the LAT team and described in <a href=\"http://adsabs.harvard.edu/abs/2010ApJ...708.1310A\" >Abdo, A. A. et al. 2010, ApJ, 708, 1310</a>. At certain points we will refer to this article as well as the <a href=\"/ssc/data/analysis/documentation/Cicerone/\">Cicerone</a>. After you complete this tutorial you should be able to reproduce all of the data analysis performed in this publication including generating a spectrum (individual bins and a butterfly plot) and produce a light curve with the python tools.  This tutorial assumes you have the most recent <a href=\"/ssc/data/analysis/software/\">ScienceTools</a> installed. We will also make significant use of python, so you might want to familiarize yourself with python (there's a beginner's guide at <a href=\"http://wiki.python.org/moin/BeginnersGuide\">http://wiki.python.org/moin/BeginnersGuide</a>). This tutorial also assumes that you've gone through the non-python based <a href=\"/ssc/data/analysis/scitools/likelihood_tutorial.html\">unbinned likelihood</a> thread. This tutorial should take approximately 8 hours to complete (depending on your computer's speed) if you do everything but there are some steps you can skip along the way which shave off about 4 hours of that.\n",
    "\n"
   ]
  },
  {
   "cell_type": "markdown",
   "metadata": {},
   "source": [
    "> **Note:** In this tutorial, commands that start with `[user@localhost]$` are to be executed within a shell environment (bash, c-shell etc.) while commands that start with `&gt;&gt;&gt;` are to be executed within an interactive python environment. Commands are in **bold** and outputs are in normal font.  Text in *ITALICS* within the boxes are comments from the author.\n"
   ]
  },
  {
   "cell_type": "code",
   "execution_count": null,
   "metadata": {
    "collapsed": true
   },
   "outputs": [],
   "source": []
  }
 ],
 "metadata": {
  "kernelspec": {
   "display_name": "Python 3",
   "language": "python",
   "name": "python3"
  },
  "language_info": {
   "codemirror_mode": {
    "name": "ipython",
    "version": 3
   },
   "file_extension": ".py",
   "mimetype": "text/x-python",
   "name": "python",
   "nbconvert_exporter": "python",
   "pygments_lexer": "ipython3",
   "version": "3.6.0"
  }
 },
 "nbformat": 4,
 "nbformat_minor": 2
}
